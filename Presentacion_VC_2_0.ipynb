{
 "cells": [
  {
   "cell_type": "markdown",
   "metadata": {},
   "source": [
    "# ¿Como tratar variables categoricas?\n",
    "__*Sergio Camposortega*__\n",
    "\n",
    "\n",
    "## Variables Categóricas, Cualitativas o de Atributo\n",
    "\n",
    "Son las variables Categóricas se asignan a un grupo en particular sobre la base de algunas caracteristicas cualitativas.\n",
    "\n",
    "Los valores de una variante categórica se pueden colocar en un número contable de categorías o grupos diferentes. "
   ]
  },
  {
   "cell_type": "code",
   "execution_count": null,
   "metadata": {
    "collapsed": true
   },
   "outputs": [],
   "source": []
  },
  {
   "cell_type": "markdown",
   "metadata": {},
   "source": [
    "Las variables categóricas pueden ser:\n",
    "\n",
    "    Nominales: Los datos no cuentan con un orden.\n",
    "    Ordinales: Los valores pueden ser ordenados lógicamente.\n",
    "\n",
    "En el caso de variables cualitativas o categóricas nominales, el análisis consiste simplemente en determinar el rango de valores y frecuencia (o frecuencia relativa) de cada valor. Una técnica útil es la tabulación de frecuencias junto a porcentaje de ocurrencias de cada categoría.\n",
    "\n",
    "En este caso, la dispersión de los datos se mide mediante la frecuencia relativa de la moda, es decir, el porcentaje de datos concentrados en el valor modal.\n",
    "\n",
    "Una variable categorica que solo toma dos valores se le conoce como variable binaria o dicotómica y las variables categoricas que toman diversas clases se denominan variables politómica.\n",
    "\n",
    "Ejemplos de variables categoricas:\n",
    "  <ul style=\"list-style-type:circle\">\n",
    "      <li>Genero</li>\n",
    "      <li>Clase Social</li>\n",
    "      <li>Tipo de Sangre</li>\n",
    "      <li>Plan Tarifario</li>\n",
    "      <li>Acepto Campaña</li>\n",
    "  </ul>\n",
    "\n",
    "Preprocesaremos los datos categoricos en la siguiente base de datos con las variables de CHURN que corresponde a la campaña realizada de MovistarOn.\n",
    " \n",
    "Pandas tiene una documentacion bastante completa para la obtencion y preprocesamiento de variables categoricas\n",
    "Mayor info en: https://pandas.pydata.org/pandas-docs/stable/categorical.html"
   ]
  },
  {
   "cell_type": "code",
   "execution_count": 1,
   "metadata": {
    "ExecuteTime": {
     "end_time": "2017-07-14T14:17:15.324000Z",
     "start_time": "2017-07-14T14:16:53.556000Z"
    },
    "collapsed": false
   },
   "outputs": [
    {
     "name": "stderr",
     "output_type": "stream",
     "text": [
      "C:\\ProgramData\\Anaconda2\\lib\\site-packages\\IPython\\core\\interactiveshell.py:2717: DtypeWarning: Columns (15) have mixed types. Specify dtype option on import or set low_memory=False.\n",
      "  interactivity=interactivity, compiler=compiler, result=result)\n"
     ]
    }
   ],
   "source": [
    "import pandas as pd\n",
    "import numpy as np\n",
    "\n",
    "from sklearn.metrics import roc_auc_score, accuracy_score, confusion_matrix, precision_score, recall_score\n",
    "from sklearn import preprocessing\n",
    "\n",
    "df = pd.read_csv('scr_movion_7.csv')"
   ]
  },
  {
   "cell_type": "code",
   "execution_count": 2,
   "metadata": {
    "ExecuteTime": {
     "end_time": "2017-07-14T14:17:15.576000Z",
     "start_time": "2017-07-14T14:17:15.518000Z"
    },
    "collapsed": true
   },
   "outputs": [],
   "source": [
    "data = df[['dn','nir', 'id_plan_tarifario', 'cimei','total_recargado',\n",
    "         'num_recargas','total_sms', 'voz_totales', 'minutos_totales',\n",
    "           'contact_totales',  'mbtotal', 'movion']]"
   ]
  },
  {
   "cell_type": "code",
   "execution_count": 3,
   "metadata": {
    "ExecuteTime": {
     "end_time": "2017-07-14T14:17:15.864000Z",
     "start_time": "2017-07-14T14:17:15.837000Z"
    },
    "collapsed": true
   },
   "outputs": [],
   "source": [
    "d_a = data.loc[data.movion == 1]"
   ]
  },
  {
   "cell_type": "code",
   "execution_count": 4,
   "metadata": {
    "ExecuteTime": {
     "end_time": "2017-07-14T14:17:16.313000Z",
     "start_time": "2017-07-14T14:17:16.202000Z"
    },
    "collapsed": false
   },
   "outputs": [],
   "source": [
    "d_a = d_a.append(data.loc[data.movion == 0].sample(n=data.loc[data.movion == 1].shape[0]+10000))"
   ]
  },
  {
   "cell_type": "code",
   "execution_count": 5,
   "metadata": {
    "ExecuteTime": {
     "end_time": "2017-07-14T14:17:16.804000Z",
     "start_time": "2017-07-14T14:17:16.627000Z"
    },
    "collapsed": true
   },
   "outputs": [],
   "source": [
    "d_a.to_csv('clase_vc.csv')"
   ]
  },
  {
   "cell_type": "code",
   "execution_count": null,
   "metadata": {
    "ExecuteTime": {
     "end_time": "2017-07-13T15:27:54.006000Z",
     "start_time": "2017-07-13T15:27:49.552000Z"
    },
    "collapsed": false
   },
   "outputs": [],
   "source": [
    "#separo los conjuntos arriba creados en train 60%, test 20%, validation 20%\n",
    "train_NV, validate_NV, test_NV = np.split(df.loc[df.movion == 0].sample(frac=1), \n",
    "                                       [int(.6*len(df.loc[df.movion == 0])), int(.8*len(df.loc[df.movion == 0]))])\n",
    "train_v, validate_v, test_v = np.split(df.loc[df.movion == 1].sample(frac=1), \n",
    "                                       [int(.6*len(df.loc[df.movion == 1])), int(.8*len(df.loc[df.movion == 1]))])"
   ]
  },
  {
   "cell_type": "code",
   "execution_count": null,
   "metadata": {
    "ExecuteTime": {
     "end_time": "2017-07-13T15:26:33.322000Z",
     "start_time": "2017-07-13T20:26:21.882Z"
    },
    "collapsed": false
   },
   "outputs": [],
   "source": [
    "df"
   ]
  },
  {
   "cell_type": "code",
   "execution_count": null,
   "metadata": {
    "ExecuteTime": {
     "end_time": "2017-07-13T12:03:35.050000Z",
     "start_time": "2017-07-13T12:03:34.666000Z"
    },
    "collapsed": false
   },
   "outputs": [],
   "source": [
    "del df['fch_alta']\n",
    "df"
   ]
  },
  {
   "cell_type": "markdown",
   "metadata": {
    "lang": "en"
   },
   "source": [
    "One hot encoding transforms categorical features to a format that works better with classification and regression algorithms.\n",
    "\n",
    "Let’s take the following example. I have seven sample inputs of categorical data belonging to four categories. Now, I could encode these to nominal values as I have done here, but that wouldn’t make sense from a machine learning perspective. We can’t say that the category of “Penguin” is greater or smaller than “Human”. Then they would be ordinal values, not nominal.\n",
    "\n",
    "What we do instead is generate one boolean column for each category. Only one of these columns could take on the value 1 for each sample. Hence, the term one hot encoding.\n",
    "\n",
    "This works very well with most machine learning algorithms. Some algorithms, like random forests, handle categorical values natively. Then, one hot encoding is not necessary. The process of one hot encoding may seem tedious, but fortunately, most modern machine learning libraries can take care of it."
   ]
  },
  {
   "cell_type": "markdown",
   "metadata": {
    "collapsed": true,
    "lang": "es"
   },
   "source": [
    "One hot encoding transforma una variable a un formato que trabaja mejor con algoritmos de clasificación y de regresión.\n",
    "\n",
    "En algunos casos, si nosotros pasamos una variable como valor nominal (sin orden) desde la perspectiva de ML no tiene sentido ya que no podriamos decir si una categoria es mayor o menor comparandose entre ellos. Por ejemplo, rango de edades (0-10,11-20,21-30,31-40,40+), estos valores se tienen que tomar como valores categoricos ordinales (sistematicos).\n",
    "\n",
    "Lo que necesitariamos generar es una columna booleana para cada categoria, las famosas dummies.\n",
    "\n",
    "Esto mejora en la mayoria de los algoritmos de ML, como veremos a continuacion.\n",
    "\n",
    "Cabe mencionar que los Random Forest manejan valores categoricos nativamente, por lo que One Hot Encoding no es necesario."
   ]
  },
  {
   "cell_type": "code",
   "execution_count": null,
   "metadata": {
    "ExecuteTime": {
     "end_time": "2017-07-13T12:49:54.966000Z",
     "start_time": "2017-07-13T12:49:54.960000Z"
    },
    "collapsed": false,
    "scrolled": true
   },
   "outputs": [],
   "source": [
    "#Tipo de cada variable\n",
    "clases=pd.DataFrame(df.ftypes, columns=['Tipo'])\n",
    "print(clases.Tipo.unique())"
   ]
  },
  {
   "cell_type": "code",
   "execution_count": null,
   "metadata": {
    "ExecuteTime": {
     "end_time": "2017-07-13T12:51:20.280000Z",
     "start_time": "2017-07-13T12:51:20.260000Z"
    },
    "collapsed": false
   },
   "outputs": [],
   "source": [
    "# Variables Categóricas\n",
    "print(clases.loc[clases.Tipo ==\"object:dense\"])\n",
    "print(clases.loc[clases.Tipo ==\"uint8:dense\"])\n",
    "print(clases.loc[clases.Tipo ==\"float64:dense\"])\n",
    "\n",
    "\n",
    "\n"
   ]
  },
  {
   "cell_type": "markdown",
   "metadata": {
    "lang": "en"
   },
   "source": [
    "One hot encoding transforms categorical features to a format that works better with classification and regression algorithms.\n",
    "\n",
    "Let’s take the following example. I have seven sample inputs of categorical data belonging to four categories. Now, I could encode these to nominal values as I have done here, but that wouldn’t make sense from a machine learning perspective. We can’t say that the category of “Penguin” is greater or smaller than “Human”. Then they would be ordinal values, not nominal.\n",
    "\n",
    "What we do instead is generate one boolean column for each category. Only one of these columns could take on the value 1 for each sample. Hence, the term one hot encoding.\n",
    "\n",
    "This works very well with most machine learning algorithms. Some algorithms, like random forests, handle categorical values natively. Then, one hot encoding is not necessary. The process of one hot encoding may seem tedious, but fortunately, most modern machine learning libraries can take care of it."
   ]
  },
  {
   "cell_type": "markdown",
   "metadata": {},
   "source": [
    "Es importante identificar las variables como estan declaradas ya que al momento de modelar es común tomar un tipo de valor incorrecto como en el caso de las siguientes variables:\n",
    "\n",
    "<ul style=\"list-style-type:circle\">\n",
    "      <li>nir</li>\n",
    "      <li>cve_linea_negocio</li>\n",
    "      <li>cve_region</li>\n",
    "      <li>movion</li>\n",
    "</ul>\n",
    "\n",
    "Por lo que es necesario un preprocesamiento da variables.\n",
    "\n",
    "Aqui mencionaremos algunas para el preprocesamiento:\n",
    "\n",
    "## Creación de variables categóricas\n",
    "\n"
   ]
  },
  {
   "cell_type": "markdown",
   "metadata": {},
   "source": [
    "### Scikit_learn LabelEncoder\n",
    "\n",
    "En python, la libreria de sklearn requiere variables numéricas, por lo que es necesario procesar datos categoricos.\n",
    "\n",
    "A continuación mostraremos el preprocesamiento con scikit_learn.preprocessing.LabelEncoder\n",
    "el cual transforma de strings a valores enteros, identificando clases en la columna seleccionada y asignandole un valor numérico.\n"
   ]
  },
  {
   "cell_type": "code",
   "execution_count": null,
   "metadata": {
    "ExecuteTime": {
     "end_time": "2017-07-13T12:03:35.166000Z",
     "start_time": "2017-07-13T12:03:35.086000Z"
    },
    "collapsed": false
   },
   "outputs": [],
   "source": [
    "df_scikit = df"
   ]
  },
  {
   "cell_type": "code",
   "execution_count": null,
   "metadata": {
    "ExecuteTime": {
     "end_time": "2017-07-13T12:03:36.350000Z",
     "start_time": "2017-07-13T12:03:35.169000Z"
    },
    "collapsed": false
   },
   "outputs": [],
   "source": [
    "from sklearn.preprocessing import LabelEncoder\n",
    "\n",
    "le =  LabelEncoder()\n",
    "\n",
    "print('tipo de la columna:',type(df_scikit.id_plan_tarifario[0]))\n",
    "#Aqui el modelo ajusta las etiquetas a los valores numericos\n",
    "le.fit(df_scikit.id_plan_tarifario)\n",
    "\n",
    "print('categorias', le.classes_)\n",
    "\n",
    "print('Transformación de valores a numérico mostrando los elementos:',\n",
    "      le.transform(df_scikit.id_plan_tarifario)[:11])\n",
    "print('Transformación inversa de valores numéricos a strings mostrando elementos:',\n",
    "      le.inverse_transform(le.transform(df_scikit.id_plan_tarifario)[:5]))\n",
    "#Para agregarlas al DataFrame solo reemplazas la columna con el siguiente comando \n",
    "# df_scikit.plan_tarif = le.transform(df_scikit.plan_tarif)"
   ]
  },
  {
   "cell_type": "markdown",
   "metadata": {},
   "source": [
    "### Scikit-Learn LabelBinarizer\n",
    "\n",
    "Consiste en un clasificador binario de clases similar a get_dummies de Pandas\n",
    "\n",
    "Regresara una clasificacion binaria por clase, por lo que convertira etiquetas multiclase a etiquetas binarias"
   ]
  },
  {
   "cell_type": "code",
   "execution_count": null,
   "metadata": {
    "ExecuteTime": {
     "end_time": "2017-07-13T12:03:36.362000Z",
     "start_time": "2017-07-13T12:03:36.353000Z"
    },
    "collapsed": false
   },
   "outputs": [],
   "source": [
    "df_scikit.id_forma_pago.head(10)"
   ]
  },
  {
   "cell_type": "code",
   "execution_count": null,
   "metadata": {
    "ExecuteTime": {
     "end_time": "2017-07-13T12:03:38.063000Z",
     "start_time": "2017-07-13T12:03:36.365000Z"
    },
    "collapsed": false
   },
   "outputs": [],
   "source": [
    "from sklearn.preprocessing import LabelBinarizer\n",
    "lb = LabelBinarizer()\n",
    "\n",
    "print('tipo de la columna:',type(df_scikit.id_forma_pago[0]))\n",
    "#Aqui el modelo ajusta las etiquetas a los valores numericos\n",
    "lb.fit(df_scikit.id_forma_pago)\n",
    "\n",
    "print('categorias', lb.classes_)\n",
    "\n",
    "print('transformacion de valores a numerico mostrando los primeros 5 elementos:',\n",
    "      lb.transform(df_scikit.id_forma_pago)[:5])"
   ]
  },
  {
   "cell_type": "code",
   "execution_count": null,
   "metadata": {
    "collapsed": true
   },
   "outputs": [],
   "source": []
  },
  {
   "cell_type": "markdown",
   "metadata": {},
   "source": [
    "Otras formas de tratar las variables categoricas es convertir rangos numericos a clases numericas (rango de edades) y existen diversos métodos como:\n",
    "\n",
    "La creación de una nueva variable basandose en la moda o promedio del rango\n",
    "\n",
    "Crear dos variables tomando en cuenta el valor menor del rango y el mayor\n",
    "\n",
    "<img src='https://www.analyticsvidhya.com/wp-content/uploads/2015/11/Bins2-850x221.png'>\n",
    "\n",
    "De esta manera nos dara mayor información."
   ]
  },
  {
   "cell_type": "markdown",
   "metadata": {},
   "source": [
    "### PANDAS\n",
    "\n",
    "Se puede crear de Series o de una categoria del DataFrame ejemplo:"
   ]
  },
  {
   "cell_type": "code",
   "execution_count": null,
   "metadata": {
    "ExecuteTime": {
     "end_time": "2017-07-13T12:03:38.098000Z",
     "start_time": "2017-07-13T12:03:38.066000Z"
    },
    "collapsed": false
   },
   "outputs": [],
   "source": [
    "#Valores unicos de la columna id_plan_tarifario\n",
    "df.id_plan_tarifario.unique()"
   ]
  },
  {
   "cell_type": "markdown",
   "metadata": {},
   "source": [
    "De variable categorica como String la pasamos a categorica con el comando astype('category')"
   ]
  },
  {
   "cell_type": "code",
   "execution_count": null,
   "metadata": {
    "ExecuteTime": {
     "end_time": "2017-07-13T12:54:46.587000Z",
     "start_time": "2017-07-13T12:54:46.437000Z"
    },
    "collapsed": false
   },
   "outputs": [],
   "source": [
    "df['plan_tarif'] = df[\"id_plan_tarifario\"].astype('category')"
   ]
  },
  {
   "cell_type": "code",
   "execution_count": null,
   "metadata": {
    "ExecuteTime": {
     "end_time": "2017-07-13T12:03:38.303000Z",
     "start_time": "2017-07-13T12:03:38.216000Z"
    },
    "collapsed": false
   },
   "outputs": [],
   "source": [
    "df.plan_tarif.head()"
   ]
  },
  {
   "cell_type": "markdown",
   "metadata": {},
   "source": [
    "Inclusive la descripción para variables categoricas cambia como deveria de esperarse\n",
    "\n",
    "Mostrando el número de registros, las categorias, la categoria más frecuente y su valor"
   ]
  },
  {
   "cell_type": "code",
   "execution_count": null,
   "metadata": {
    "ExecuteTime": {
     "end_time": "2017-07-13T12:03:38.415000Z",
     "start_time": "2017-07-13T12:03:38.306000Z"
    },
    "collapsed": false
   },
   "outputs": [],
   "source": [
    "df.plan_tarif.describe()"
   ]
  },
  {
   "cell_type": "code",
   "execution_count": null,
   "metadata": {
    "ExecuteTime": {
     "end_time": "2017-07-13T12:03:38.475000Z",
     "start_time": "2017-07-13T12:03:38.418000Z"
    },
    "collapsed": false
   },
   "outputs": [],
   "source": [
    "pd.DataFrame(df.id_plan_tarifario).head()"
   ]
  },
  {
   "cell_type": "markdown",
   "metadata": {},
   "source": [
    "Metodo pd.get_dummies()"
   ]
  },
  {
   "cell_type": "code",
   "execution_count": null,
   "metadata": {
    "ExecuteTime": {
     "end_time": "2017-07-13T12:03:38.657000Z",
     "start_time": "2017-07-13T12:03:38.478000Z"
    },
    "collapsed": false,
    "scrolled": true
   },
   "outputs": [],
   "source": [
    "pd.get_dummies(df.id_plan_tarifario)"
   ]
  },
  {
   "cell_type": "code",
   "execution_count": null,
   "metadata": {
    "ExecuteTime": {
     "end_time": "2017-07-13T12:03:39.506000Z",
     "start_time": "2017-07-13T12:03:38.660000Z"
    },
    "collapsed": false
   },
   "outputs": [],
   "source": [
    "df_dummi = pd.concat([df, pd.get_dummies(df.plan_tarif)], axis=1)\n",
    "df_dummi"
   ]
  },
  {
   "cell_type": "code",
   "execution_count": null,
   "metadata": {
    "ExecuteTime": {
     "end_time": "2017-07-13T12:03:39.520000Z",
     "start_time": "2017-07-13T12:03:39.509000Z"
    },
    "collapsed": false
   },
   "outputs": [],
   "source": [
    "del  df_dummi['KH']\n",
    "del df_dummi['KM']\n",
    "\n",
    "#no olvidar quitar variables directamente relacionadas con la 'y' del predict del modelo"
   ]
  },
  {
   "cell_type": "markdown",
   "metadata": {},
   "source": [
    "Ejemplo de predicciones con distintos datasets procesados y no procesados."
   ]
  },
  {
   "cell_type": "code",
   "execution_count": null,
   "metadata": {
    "ExecuteTime": {
     "end_time": "2017-07-13T12:03:39.619000Z",
     "start_time": "2017-07-13T12:03:39.523000Z"
    },
    "collapsed": true
   },
   "outputs": [],
   "source": [
    "df = df[['dn', 'id_plan_tarifario', 'cimei','total_recargado',\n",
    " 'num_recargas','total_sms', 'voz_totales',\n",
    " 'minutos_totales', 'contact_totales',  'mbtotal', 'movion']]"
   ]
  },
  {
   "cell_type": "code",
   "execution_count": null,
   "metadata": {
    "ExecuteTime": {
     "end_time": "2017-07-13T12:04:05.196000Z",
     "start_time": "2017-07-13T12:04:05.171000Z"
    },
    "collapsed": false
   },
   "outputs": [],
   "source": [
    "from __future__ import division\n",
    "from sklearn import cross_validation\n",
    "from sklearn.preprocessing import StandardScaler\n",
    "from sklearn import tree\n",
    "from sklearn import metrics\n",
    "import matplotlib.pyplot as plt\n",
    "\n",
    "col_names = df.columns.tolist()\n",
    "\n",
    "print (\"Column names:\")\n",
    "print( col_names)\n",
    "\n",
    "df.head(6)"
   ]
  },
  {
   "cell_type": "code",
   "execution_count": null,
   "metadata": {
    "ExecuteTime": {
     "end_time": "2017-07-13T12:04:06.527000Z",
     "start_time": "2017-07-13T12:04:06.405000Z"
    },
    "collapsed": false
   },
   "outputs": [],
   "source": [
    "y = df['movion']\n",
    "\n",
    "print (\"Acepto Campaña: \", sum(y))\n",
    "print (\"No movion Campaña: \", y.shape[0] - sum(y))"
   ]
  },
  {
   "cell_type": "code",
   "execution_count": null,
   "metadata": {
    "ExecuteTime": {
     "end_time": "2017-07-13T12:06:35.470000Z",
     "start_time": "2017-07-13T12:06:34.741000Z"
    },
    "collapsed": false
   },
   "outputs": [],
   "source": [
    "features = df[['id_plan_tarifario', 'cimei','total_recargado',\n",
    " 'num_recargas','total_sms', 'voz_totales',\n",
    " 'minutos_totales', 'contact_totales',  'mbtotal']]\n",
    "\n",
    "X = features.as_matrix().astype(np.float)"
   ]
  },
  {
   "cell_type": "code",
   "execution_count": null,
   "metadata": {
    "ExecuteTime": {
     "end_time": "2017-07-13T12:06:38.259000Z",
     "start_time": "2017-07-13T12:06:36.066000Z"
    },
    "collapsed": false
   },
   "outputs": [],
   "source": [
    "features.id_plan_tarifario\n",
    "le =  LabelEncoder()\n",
    "#Aqui el modelo ajusta las etiquetas a los valores numericos\n",
    "le.fit(features.id_plan_tarifario)\n",
    "#LABELENCODER\n",
    "features.id_plan_tarifario = le.transform(features.id_plan_tarifario)\n",
    "#LABELBINARIZER\n",
    "lb =  LabelBinarizer()\n",
    "lb.fit(features.cimei)\n",
    "features.cimei = lb.transform(features.cimei)"
   ]
  },
  {
   "cell_type": "code",
   "execution_count": null,
   "metadata": {
    "ExecuteTime": {
     "end_time": "2017-07-13T12:06:38.971000Z",
     "start_time": "2017-07-13T12:06:38.911000Z"
    },
    "collapsed": false
   },
   "outputs": [],
   "source": [
    "X = features.as_matrix().astype(np.float)"
   ]
  },
  {
   "cell_type": "code",
   "execution_count": null,
   "metadata": {
    "ExecuteTime": {
     "end_time": "2017-07-13T12:06:49.154000Z",
     "start_time": "2017-07-13T12:06:40.798000Z"
    },
    "collapsed": false
   },
   "outputs": [],
   "source": [
    "kf=cross_validation.KFold(n=y.shape[0], n_folds=2, shuffle=False, random_state=0)\n",
    "\n",
    "acc = np.zeros((5,))\n",
    "i=0\n",
    "#We will build the predicted y from the partial predictions on the test of \n",
    "#each of the folds\n",
    "yhat = y.copy()\n",
    "for train_index, test_index in kf:\n",
    "    X_train, X_test = X[train_index], X[test_index]\n",
    "    y_train, y_test = y[train_index], y[test_index]\n",
    "    scaler = StandardScaler()\n",
    "    X_train = scaler.fit_transform(X_train)\n",
    "    dt = tree.DecisionTreeClassifier(criterion='entropy')\n",
    "    dt.fit(X_train,y_train)\n",
    "    X_test = scaler.transform(X_test)\n",
    "    yhat[test_index] = dt.predict(X_test)\n",
    "    acc[i] = metrics.accuracy_score(yhat[test_index], y_test)\n",
    "    i=i+1\n",
    "print ('Score medio: '+ str(np.mean(acc)))\n",
    "\n",
    "cm = metrics.confusion_matrix(y, yhat)\n",
    "fig = plt.figure()\n",
    "ax = fig.add_subplot(111)\n",
    "ax.matshow(cm)\n",
    "plt.title('Matriz de confusion',size=20)\n",
    "ax.set_xticklabels([''] + ['No Acepto', 'Acepto'], size=20)\n",
    "ax.set_yticklabels([''] + ['No Acepto', 'Acepto'], size=20)\n",
    "plt.ylabel('Predicho',size=20)\n",
    "plt.xlabel('Real',size=20)\n",
    "for i in range(2):\n",
    "    for j in range(2):\n",
    "        ax.text(i, j, cm[i,j], va='center', ha='center',color='white',size=20)\n",
    "fig.set_size_inches(7,7)\n",
    "plt.show()\n",
    "\n",
    "print (metrics.classification_report(y,yhat))"
   ]
  },
  {
   "cell_type": "markdown",
   "metadata": {},
   "source": [
    "cambiando por dummies"
   ]
  },
  {
   "cell_type": "code",
   "execution_count": null,
   "metadata": {
    "ExecuteTime": {
     "end_time": "2017-07-13T12:13:10.465000Z",
     "start_time": "2017-07-13T12:13:08.886000Z"
    },
    "collapsed": false
   },
   "outputs": [],
   "source": [
    "features_dummi = df_dummi[['cimei','total_recargado',\n",
    " 'num_recargas','total_sms', 'voz_totales',\n",
    " 'minutos_totales', 'contact_totales',  'mbtotal',\n",
    " 'DH', 'DU', 'E1', 'F1', 'G1', 'GF', 'GH', 'GW', 'KEL', 'LG', 'MT']]\n",
    "\n",
    "lb =  LabelBinarizer()\n",
    "lb.fit(features_dummi.cimei)\n",
    "features_dummi.cimei = lb.transform(features_dummi.cimei)\n",
    "\n",
    "X = features_dummi.as_matrix().astype(np.float)"
   ]
  },
  {
   "cell_type": "code",
   "execution_count": null,
   "metadata": {
    "ExecuteTime": {
     "end_time": "2017-07-13T12:34:49.184000Z",
     "start_time": "2017-07-13T12:34:49.051000Z"
    },
    "collapsed": false
   },
   "outputs": [],
   "source": [
    "train_NV, validate_NV, test_NV = np.split(data.loc[data.acepto == 0].sample(frac=1), \n",
    "                                       [int(.6*len(data.loc[data.acepto == 0])), int(.8*len(data.loc[data.acepto == 0]))])\n",
    "train_v, validate_v, test_v = np.split(data.loc[data.acepto == 1].sample(frac=1), \n",
    "                                       [int(.6*len(data.loc[data.acepto == 1])), int(.8*len(data.loc[data.acepto == 1]))])\n",
    "\n",
    "train_balanced_X = train_v.drop(['acepto','dn'],1).append(\n",
    "    train_NV.sample(len(train_v)).drop(['acepto','dn'],1))"
   ]
  },
  {
   "cell_type": "code",
   "execution_count": null,
   "metadata": {
    "ExecuteTime": {
     "end_time": "2017-07-13T12:17:20.026000Z",
     "start_time": "2017-07-13T12:17:13.489000Z"
    },
    "collapsed": false
   },
   "outputs": [],
   "source": [
    "#kf=cross_validation.KFold(n=y.shape[0], n_folds=2, shuffle=False, random_state=0)\n",
    "\n",
    "acc = np.zeros((5,))\n",
    "i=0\n",
    "#We will build the predicted y from the partial predictions on the test of \n",
    "#each of the folds\n",
    "yhat = y.copy()\n",
    "for train_index, test_index in kf:\n",
    "    X_train, X_test = X[train_index], X[test_index]\n",
    "    y_train, y_test = y[train_index], y[test_index]\n",
    "    scaler = StandardScaler()\n",
    "    X_train = scaler.fit_transform(X_train)\n",
    "    dt = tree.DecisionTreeClassifier(criterion='gini')\n",
    "    dt.fit(X_train,y_train)\n",
    "    X_test = scaler.transform(X_test)\n",
    "    yhat[test_index] = dt.predict(X_test)\n",
    "    acc[i] = metrics.accuracy_score(yhat[test_index], y_test)\n",
    "    i=i+1\n",
    "print ('Score medio: '+ str(np.mean(acc)))\n",
    "\n",
    "cm = metrics.confusion_matrix(y, yhat)\n",
    "fig = plt.figure()\n",
    "ax = fig.add_subplot(111)\n",
    "ax.matshow(cm)\n",
    "plt.title('Matriz de confusion',size=20)\n",
    "ax.set_xticklabels([''] + ['No Acepto', 'Acepto'], size=20)\n",
    "ax.set_yticklabels([''] + ['No Acepto', 'Acepto'], size=20)\n",
    "plt.ylabel('Predicho',size=20)\n",
    "plt.xlabel('Real',size=20)\n",
    "for i in range(2):\n",
    "    for j in range(2):\n",
    "        ax.text(i, j, cm[i,j], va='center', ha='center',color='white',size=20)\n",
    "fig.set_size_inches(7,7)\n",
    "plt.show()\n",
    "\n",
    "print (metrics.classification_report(y,yhat))"
   ]
  },
  {
   "cell_type": "code",
   "execution_count": null,
   "metadata": {
    "collapsed": true
   },
   "outputs": [],
   "source": []
  }
 ],
 "metadata": {
  "kernelspec": {
   "display_name": "Python 2",
   "language": "python",
   "name": "python2"
  },
  "language_info": {
   "codemirror_mode": {
    "name": "ipython",
    "version": 2
   },
   "file_extension": ".py",
   "mimetype": "text/x-python",
   "name": "python",
   "nbconvert_exporter": "python",
   "pygments_lexer": "ipython2",
   "version": "2.7.13"
  },
  "nbTranslate": {
   "displayLangs": [
    "es"
   ],
   "hotkey": "alt-t",
   "langInMainMenu": true,
   "sourceLang": "es",
   "targetLang": "en",
   "useGoogleTranslate": true
  },
  "notify_time": "10",
  "toc": {
   "colors": {
    "hover_highlight": "#DAA520",
    "navigate_num": "#000000",
    "navigate_text": "#333333",
    "running_highlight": "#FF0000",
    "selected_highlight": "#FFD700",
    "sidebar_border": "#EEEEEE",
    "wrapper_background": "#FFFFFF"
   },
   "moveMenuLeft": true,
   "nav_menu": {
    "height": "100px",
    "width": "252px"
   },
   "navigate_menu": true,
   "number_sections": true,
   "sideBar": true,
   "threshold": 4,
   "toc_cell": false,
   "toc_section_display": "block",
   "toc_window_display": false,
   "widenNotebook": false
  },
  "varInspector": {
   "cols": {
    "lenName": 16,
    "lenType": 16,
    "lenVar": 40
   },
   "kernels_config": {
    "python": {
     "delete_cmd_postfix": "",
     "delete_cmd_prefix": "del ",
     "library": "var_list.py",
     "varRefreshCmd": "print(var_dic_list())"
    },
    "r": {
     "delete_cmd_postfix": ") ",
     "delete_cmd_prefix": "rm(",
     "library": "var_list.r",
     "varRefreshCmd": "cat(var_dic_list()) "
    }
   },
   "oldHeight": 341.181818,
   "position": {
    "height": "363px",
    "left": "217.44px",
    "right": "20px",
    "top": "105.989px",
    "width": "515px"
   },
   "types_to_exclude": [
    "module",
    "function",
    "builtin_function_or_method",
    "instance",
    "_Feature"
   ],
   "varInspector_section_display": "block",
   "window_display": false
  }
 },
 "nbformat": 4,
 "nbformat_minor": 2
}
